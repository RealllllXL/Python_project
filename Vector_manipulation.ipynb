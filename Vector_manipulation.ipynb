{
 "cells": [
  {
   "cell_type": "code",
   "execution_count": 29,
   "metadata": {},
   "outputs": [],
   "source": [
    "## P26 挑战：向量操作 ##\n",
    "\n",
    "def elementwise_multiplication(vec_a, vec_b):\n",
    "    assert(len(vec_a) == len(vec_b)), \"两个向量维度必须相等\"\n",
    "    output = []\n",
    "    \n",
    "    for i in range(len(vec_a)):\n",
    "        output.append(vec_a[i] * vec_b[i])\n",
    "    \n",
    "    return output\n",
    "\n",
    "def elementwise_elementwise_addition(vec_a, vec_b):\n",
    "    assert(len(vec_a) == len(vec_b))\n",
    "    output = []\n",
    "    \n",
    "    for i in range(len(vec_a)):\n",
    "        output.append(vec_a[i] + vec_b[i])\n",
    "    \n",
    "    return output\n",
    "\n",
    "def vector_sum(vec_a):\n",
    "    output = 0\n",
    "    for i in vec_a:\n",
    "        output += i\n",
    "    \n",
    "    return output\n",
    "\n",
    "def vector_average(vec_a):\n",
    "    if vec_a:\n",
    "        ave = 0\n",
    "\n",
    "        for i in vec_a:\n",
    "            ave = (vector_sum(vec_a) / len(vec_a))\n",
    "    else:\n",
    "        print('Empty List!')\n",
    "    return ave\n"
   ]
  },
  {
   "cell_type": "code",
   "execution_count": 30,
   "metadata": {},
   "outputs": [
    {
     "name": "stdout",
     "output_type": "stream",
     "text": [
      "[4, 10, 18] [5, 7, 9] 6 2.0\n"
     ]
    }
   ],
   "source": [
    "a = [1, 2, 3]\n",
    "b = [4, 5, 6]\n",
    "\n",
    "output1 = elementwise_multiplication(a, b)\n",
    "output2 = elementwise_elementwise_addition(a,b)\n",
    "output3 = vector_sum(a)\n",
    "output4 = vector_average(a)\n",
    "\n",
    "print (output1, output2, output3, output4)"
   ]
  }
 ],
 "metadata": {
  "kernelspec": {
   "display_name": "base",
   "language": "python",
   "name": "python3"
  },
  "language_info": {
   "codemirror_mode": {
    "name": "ipython",
    "version": 3
   },
   "file_extension": ".py",
   "mimetype": "text/x-python",
   "name": "python",
   "nbconvert_exporter": "python",
   "pygments_lexer": "ipython3",
   "version": "3.12.7"
  }
 },
 "nbformat": 4,
 "nbformat_minor": 2
}
